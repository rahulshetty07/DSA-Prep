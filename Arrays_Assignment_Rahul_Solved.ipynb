{
  "cells": [
    {
      "cell_type": "markdown",
      "id": "cb69186f",
      "metadata": {
        "id": "cb69186f"
      },
      "source": [
        "<center><h1>ARRAYS / LISTS</h1></center>\n"
      ]
    },
    {
      "cell_type": "markdown",
      "id": "67b9c8f3",
      "metadata": {
        "id": "67b9c8f3"
      },
      "source": [
        "## What is an Array?\n",
        "An array is an homogeneous linear data structure. The main idea behind array is to store the elements of same data type in contiguous memory locations.\n",
        "<center><img src=\"https://media.geeksforgeeks.org/wp-content/cdn-uploads/Blank-Diagram-Page-1-10.jpeg\" /></center>\n",
        "\n",
        "### Characteristics of Arrays:\n",
        "- All the elements in the array are of same data type.\n",
        "- All the array elements are stored in continuous memory locatins.\n",
        "- The array name represents the address of the starting element in the array.\n",
        "\n",
        "### Types on Arrays\n",
        "- <b>Single Dimensional Arrays: </b>Arrays are said to be 1-D if it stores a collection of similar type data in a contiguous block of memory. The data is confined to one dimension.\n",
        "<img src=\"https://learnprogramo.com/wp-content/uploads/2020/05/example-1-1.png\" />\n",
        "- <b>Multidimensional Arrays: </b>A multidimensional array is an array with two or more dimensions.\n",
        "<img src=\"https://media.geeksforgeeks.org/wp-content/uploads/3D-array.jpg\" width=\"600px\" height=\"400px\"/>\n",
        "\n",
        "### Lists in Python\n",
        "Lists in python are used to store collections of elements in a single variable. We can store elements of different datatypes in lists. Lists in python are mutable i.e.we can change, add, and remove items in a list.<br/>\n",
        "\n",
        "<b>Some of the basic functions on lists:</b>\n",
        "- <a href=\"#Append\">Append</a>\n",
        "- <a href=\"#Pop\">Pop</a>\n",
        "- <a href=\"#Insert\">Insert</a>\n",
        "- <a href=\"#Remove\">Remove</a>"
      ]
    },
    {
      "cell_type": "markdown",
      "id": "10756199",
      "metadata": {
        "id": "10756199"
      },
      "source": [
        "## Basic operations on Lists"
      ]
    },
    {
      "cell_type": "markdown",
      "id": "dcdff907",
      "metadata": {
        "id": "dcdff907"
      },
      "source": [
        "### Declaration"
      ]
    },
    {
      "cell_type": "code",
      "execution_count": null,
      "id": "5c48c962",
      "metadata": {
        "id": "5c48c962",
        "outputId": "96de5331-646a-43e7-84f0-df13d0f6ae3e"
      },
      "outputs": [
        {
          "name": "stdout",
          "output_type": "stream",
          "text": [
            "[]\n"
          ]
        }
      ],
      "source": [
        "list1 = list()\n",
        "print(list1)\n"
      ]
    },
    {
      "cell_type": "markdown",
      "id": "6c25a0c8",
      "metadata": {
        "id": "6c25a0c8"
      },
      "source": [
        "### Append\n",
        "Append operation inserts an element at the end of the list."
      ]
    },
    {
      "cell_type": "code",
      "execution_count": null,
      "id": "e7b18cf1",
      "metadata": {
        "id": "e7b18cf1",
        "outputId": "a7f62eab-1c3c-489d-a754-511d72545507"
      },
      "outputs": [
        {
          "name": "stdout",
          "output_type": "stream",
          "text": [
            "[1, 2, 3, 4]\n"
          ]
        }
      ],
      "source": [
        "list1.append(1)\n",
        "list1.append(2)\n",
        "list1.append(3)\n",
        "list1.append(4)\n",
        "print(list1)"
      ]
    },
    {
      "cell_type": "markdown",
      "id": "da59cef1",
      "metadata": {
        "id": "da59cef1"
      },
      "source": [
        "### Pop\n",
        "Pop operation removes last inserted element in the List."
      ]
    },
    {
      "cell_type": "code",
      "execution_count": null,
      "id": "0009d8b4",
      "metadata": {
        "id": "0009d8b4",
        "outputId": "837772d4-036c-4fdb-f570-2696e2172518"
      },
      "outputs": [
        {
          "name": "stdout",
          "output_type": "stream",
          "text": [
            "Popped Element: 4\n",
            "After performing POP operation: [1, 2, 3]\n"
          ]
        }
      ],
      "source": [
        "popped_element = list1.pop()\n",
        "print(f\"Popped Element: {popped_element}\")\n",
        "print(f\"After performing POP operation: {list1}\")"
      ]
    },
    {
      "cell_type": "markdown",
      "id": "eb82bf7f",
      "metadata": {
        "id": "eb82bf7f"
      },
      "source": [
        "### Insert\n",
        "Insert function inserts an element at the specified index in the list."
      ]
    },
    {
      "cell_type": "code",
      "execution_count": null,
      "id": "d4a5f43d",
      "metadata": {
        "id": "d4a5f43d",
        "outputId": "13ea9e62-02c6-473c-b1a4-ca20c4aabf04"
      },
      "outputs": [
        {
          "name": "stdout",
          "output_type": "stream",
          "text": [
            "[1, 5, 2, 3]\n"
          ]
        }
      ],
      "source": [
        "# inserting 5 at index 1\n",
        "list1.insert(1, 5)\n",
        "print(list1)"
      ]
    },
    {
      "cell_type": "markdown",
      "id": "d0f38c7e",
      "metadata": {
        "id": "d0f38c7e"
      },
      "source": [
        "### Remove\n",
        "Remove function is used to remove the specified element from the list, if there are multiple occurances of element, the first occurance is removed."
      ]
    },
    {
      "cell_type": "code",
      "execution_count": null,
      "id": "1a5c3a18",
      "metadata": {
        "id": "1a5c3a18",
        "outputId": "cbd5110f-0215-48f2-ab3e-87a0b7ab1239"
      },
      "outputs": [
        {
          "name": "stdout",
          "output_type": "stream",
          "text": [
            "[1, 2, 3]\n"
          ]
        }
      ],
      "source": [
        "# removing element 5\n",
        "list1.remove(5)\n",
        "print(list1)"
      ]
    },
    {
      "cell_type": "markdown",
      "id": "dff9b5c2",
      "metadata": {
        "id": "dff9b5c2"
      },
      "source": [
        "<b>Congoo!,</b> You have complement the basic introduction of Arrays / Lists. Now we will be exploring few problems on arrays to become more familiar with Array's data structure."
      ]
    },
    {
      "cell_type": "markdown",
      "id": "ZOoYJ9rudfxw",
      "metadata": {
        "id": "ZOoYJ9rudfxw"
      },
      "source": [
        "# **`WATCH Mentioned Videos in The Portal`**"
      ]
    },
    {
      "cell_type": "markdown",
      "id": "764075e1",
      "metadata": {
        "id": "764075e1"
      },
      "source": [
        "## Problems"
      ]
    },
    {
      "cell_type": "markdown",
      "id": "a4985f6b",
      "metadata": {
        "id": "a4985f6b"
      },
      "source": [
        "### Problem - 1\n",
        "Given an array of elements, Write a function that finds the largest and smallest element in the array and return an regenerated array by squaring the element and dividing it with the difference between largest and the smallest element.<br/>\n",
        "\n",
        "<b>Note:</b>\n",
        "- Round the elements generated after performing operation to two digits.\n",
        "- The input array will at least have one element.\n",
        "- Do not use the inbuilt min and max functions of python.\n",
        "\n",
        "<b>Input:</b> L = [1,2,3,4]<br/>\n",
        "<b>Output:</b> L = [0.33, 1.33, 3.0, 5.33]"
      ]
    },
    {
      "cell_type": "markdown",
      "id": "drquspmEdVWS",
      "metadata": {
        "id": "drquspmEdVWS"
      },
      "source": [
        "### **`Watch 1st Video Problem 1: Explanation`**"
      ]
    },
    {
      "cell_type": "markdown",
      "id": "PQ6HgNhOdnT9",
      "metadata": {
        "id": "PQ6HgNhOdnT9"
      },
      "source": [
        "### **`Watch 2nd Video Problem 1: Code Explanation`**"
      ]
    },
    {
      "cell_type": "markdown",
      "id": "2a875e49",
      "metadata": {
        "id": "2a875e49"
      },
      "source": [
        "<img src=\"https://media.giphy.com/media/1TX7wY4YnF9DVIjpwQ/giphy.gif\" width=\"40px\" height=\"40px\" style=\"margin: 0px;\"/>\n",
        "\n",
        "#### Logic\n",
        "\n",
        "```\n",
        "- Find the minimum and maximum values from the array.\n",
        "- Apply the mentioned logic i.e. square of value / difference between maximum and minimum.\n",
        "- Round the obtained value to 2 decimals.\n",
        "```"
      ]
    },
    {
      "cell_type": "code",
      "execution_count": 2,
      "id": "04e918d4",
      "metadata": {
        "id": "04e918d4"
      },
      "outputs": [],
      "source": [
        "def regenerate_array(list1):\n",
        "\n",
        "    # initialize minimum and maximum value to first element\n",
        "    min_value= list1[0]\n",
        "    max_value = list1[0]\n",
        "\n",
        "\n",
        "    # finding minimum and maximum values\n",
        "    for i in list1:\n",
        "        if i < min_value:\n",
        "            min_value =i\n",
        "        if i > max_value:\n",
        "            max_value = i\n",
        "    \n",
        "    \n",
        "\n",
        "\n",
        "    # regenerating the array with the logic\n",
        "            \n",
        "    for index, value in enumerate(list1):\n",
        "        new_value = (value**2)/(max_value - min_value)\n",
        "        list1[index]=round(new_value,2)\n",
        "\n",
        "    # return the list\n",
        "    return list1\n"
      ]
    },
    {
      "cell_type": "code",
      "execution_count": null,
      "id": "a6gvnfBJh-ZO",
      "metadata": {
        "id": "a6gvnfBJh-ZO",
        "outputId": "23fe1bf1-08cf-4fdf-9ce5-269d92db57e7"
      },
      "outputs": [
        {
          "name": "stdout",
          "output_type": "stream",
          "text": [
            "[0.33, 1.33, 3.0, 5.33]\n"
          ]
        }
      ],
      "source": [
        "input1 = [1, 2, 3, 4]\n",
        "print(regenerate_array(input1))\n"
      ]
    },
    {
      "cell_type": "code",
      "execution_count": 4,
      "id": "T0E9Tjv6h-ZQ",
      "metadata": {
        "id": "T0E9Tjv6h-ZQ",
        "outputId": "f9f11de2-46f7-4b06-f1b7-5ca92c7511ed"
      },
      "outputs": [
        {
          "name": "stdout",
          "output_type": "stream",
          "text": [
            "[33.33, 133.33, 300.0, 533.33]\n"
          ]
        }
      ],
      "source": [
        "input2 = [100, 200, 300, 400]\n",
        "print(regenerate_array(input2))"
      ]
    },
    {
      "cell_type": "code",
      "execution_count": null,
      "id": "bI0vlrOIh-ZR",
      "metadata": {
        "id": "bI0vlrOIh-ZR",
        "outputId": "6e4ae091-17a7-49be-acd1-dbbca92f2c14"
      },
      "outputs": [
        {
          "name": "stdout",
          "output_type": "stream",
          "text": [
            "[7.97, 1.75, 393.97, 0.19]\n"
          ]
        }
      ],
      "source": [
        "input3 = [-64, 30, 450, -10]\n",
        "print(regenerate_array(input3))"
      ]
    },
    {
      "cell_type": "markdown",
      "id": "e1973531",
      "metadata": {
        "id": "e1973531"
      },
      "source": [
        "### Problem - 2\n",
        "\n",
        "Sort arrays of 0's, 1's and 2's without using any sorting algorithm.\n",
        "\n",
        "<b>Input:</b> L = [0,1,0,2,1]<br/>\n",
        "<b>Output:</b> L = [0,0,1,1,2]"
      ]
    },
    {
      "cell_type": "markdown",
      "id": "O3Om0Y4NewWm",
      "metadata": {
        "id": "O3Om0Y4NewWm"
      },
      "source": [
        "### **`Watch Video Problem 2: Explanation`**"
      ]
    },
    {
      "cell_type": "markdown",
      "id": "BXYoEi9rfAae",
      "metadata": {
        "id": "BXYoEi9rfAae"
      },
      "source": [
        "### **`Watch Video Problem 2: Code Explanation`**"
      ]
    },
    {
      "cell_type": "markdown",
      "id": "612aaab7",
      "metadata": {
        "id": "612aaab7"
      },
      "source": [
        "<img src=\"https://media.giphy.com/media/1TX7wY4YnF9DVIjpwQ/giphy.gif\" width=\"40px\" height=\"40px\" style=\"margin: 0px;\"/>\n",
        "\n",
        "#### Approach 1\n",
        "\n",
        "```\n",
        "- Use a data structure that could store the count of 0,1,2.\n",
        "- Now, place those many 0,1,2 into the same array.\n",
        "```"
      ]
    },
    {
      "cell_type": "code",
      "execution_count": null,
      "id": "bc9648b6",
      "metadata": {
        "id": "bc9648b6"
      },
      "outputs": [],
      "source": [
        "def sort_list(list1):\n",
        "    \"\"\"\n",
        "    Counting the number of 0's, 1's and 2's and then placing 0,1,2 based on their count in the array.\n",
        "    \"\"\"\n",
        "\n",
        "    # creating a counter array with three 0's where value at each index in the count of index number (i.e. 0,1,2)\n",
        "    count = [0,0,0]\n",
        "\n",
        "    for num in list1:\n",
        "      count[num]+=1\n",
        "\n",
        "    # put the 0's,1's and 2's based on the count into the array\n",
        "    index = 0\n",
        "    for i, value in enumerate(count):\n",
        "      while count!=0:\n",
        "        list[index]=i\n",
        "        value-=1\n",
        "        index+=1\n",
        "\n",
        "\n",
        "    # return the list\n",
        "    return list1\n"
      ]
    },
    {
      "cell_type": "code",
      "execution_count": null,
      "id": "37e98b08",
      "metadata": {
        "id": "37e98b08",
        "outputId": "faea6902-3515-4e74-c4bb-2d361dcd63c9"
      },
      "outputs": [
        {
          "data": {
            "text/plain": [
              "[0, 0, 0, 1, 1, 1, 1, 1, 2, 2, 2, 2]"
            ]
          },
          "execution_count": 11,
          "metadata": {},
          "output_type": "execute_result"
        }
      ],
      "source": [
        "sort_list([0, 1, 0, 2, 1, 2, 1, 0, 2, 2, 1, 1])"
      ]
    },
    {
      "cell_type": "markdown",
      "id": "ba581f3e",
      "metadata": {
        "id": "ba581f3e"
      },
      "source": [
        "<img src=\"https://media.giphy.com/media/1TX7wY4YnF9DVIjpwQ/giphy.gif\" width=\"40px\" height=\"40px\" style=\"margin: 0px;\"/>\n",
        "\n",
        "#### Approach 2\n",
        "\n",
        "```\n",
        "Using 3 pointer (low, mid, high) approach (also called as dutch national flag algorithm)\n",
        "    All the elements left to low are 0's\n",
        "    All the elements between low and mid are 1's\n",
        "    All the elements right to high are 2's\n",
        "```"
      ]
    },
    {
      "cell_type": "code",
      "execution_count": null,
      "id": "5ca1b5f2",
      "metadata": {
        "id": "5ca1b5f2"
      },
      "outputs": [],
      "source": [
        "def sort_list(list1):\n",
        "    \"\"\"\n",
        "    Using 3 pointer (low, mid, high) approach (also called as dutch national flag algorithm)\n",
        "    All the elements left to low are 0's\n",
        "    All the elements between low and mid are 1's\n",
        "    All the elements right to high are 2's\n",
        "    \"\"\"\n",
        "\n",
        "    # initialize the length, low (with 0 index), mid (with 0 index) and high (with last index) pointer\n",
        "    n =  len(list1)\n",
        "    low=0\n",
        "    mid=0\n",
        "    high = n-1\n",
        "\n",
        "    # run a loop while mid<=high\n",
        "    while mid<=high:\n",
        "      if list1[mid]==0:\n",
        "        list1[low],list1[mid]=list1[mid], list1[low]\n",
        "        low+=1\n",
        "        mid+=1\n",
        "\n",
        "        # if the element is 0, swap low, mid\n",
        "      elif list1[mid]==1:\n",
        "        mid+=1\n",
        "\n",
        "        # if the element is 2, swap high, mid\n",
        "      else:\n",
        "        list1[high], list1[mid] = list1[mid], list1[high]\n",
        "        high-=1\n",
        "        mid+=1\n",
        "\n",
        "    # return the list\n",
        "    return list1\n"
      ]
    },
    {
      "cell_type": "code",
      "execution_count": null,
      "id": "f84ad6a2",
      "metadata": {
        "colab": {
          "base_uri": "https://localhost:8080/"
        },
        "id": "f84ad6a2",
        "outputId": "e6f434bd-7dfc-4dd1-e7d2-0c98fc66ebf4"
      },
      "outputs": [
        {
          "data": {
            "text/plain": [
              "[0, 0, 0, 1, 1, 1, 1, 1, 2, 2, 2, 2]"
            ]
          },
          "execution_count": 14,
          "metadata": {},
          "output_type": "execute_result"
        }
      ],
      "source": [
        "sort_list([0, 1, 0, 2, 1, 2, 1, 0, 2, 2, 1, 1])"
      ]
    },
    {
      "cell_type": "markdown",
      "id": "6db6c58a",
      "metadata": {
        "id": "6db6c58a"
      },
      "source": [
        "### Problem - 3\n",
        "Given an 2-D square Matrix (Assume it's an image). You need to write a function which takes this 2-D square Matrix as an input and returns a clockwise rotated matrix.\n",
        "\n",
        "<img src=\"https://assets.leetcode.com/uploads/2020/08/28/mat1.jpg\" width=\"500px\"/>\n",
        "\n",
        "<b>Input:</b> L = [[1,2,3], [4,5,6], [7,8,9]]<br/>\n",
        "<b>Output:</b> L = [[7,4,1], [8,5,2], [9,6,3]]"
      ]
    },
    {
      "cell_type": "markdown",
      "id": "pXRQCUxCfMuQ",
      "metadata": {
        "id": "pXRQCUxCfMuQ"
      },
      "source": [
        "### **`Watch Solved Problem 3: Clockwise Rotated Matrix`**"
      ]
    },
    {
      "cell_type": "markdown",
      "id": "e8ed4093",
      "metadata": {
        "id": "e8ed4093"
      },
      "source": [
        "<img src=\"https://media.giphy.com/media/1TX7wY4YnF9DVIjpwQ/giphy.gif\" width=\"40px\" height=\"40px\" style=\"margin: 0px;\"/>\n",
        "\n",
        "#### Approach 1\n",
        "\n",
        "```\n",
        "- Create a new matrix with same nuber of rows and columns.\n",
        "- Set the new matrix columns in reverse order as the row values of the original matrix.\n",
        "```"
      ]
    },
    {
      "cell_type": "code",
      "execution_count": null,
      "id": "115bc62a",
      "metadata": {
        "id": "115bc62a"
      },
      "outputs": [],
      "source": [
        "def rotate_matrix(matrix):\n",
        "    \"\"\"\n",
        "    The basic idea here is to create a new matrix and put all the rows of input matrix as columns in\n",
        "    the new matrix and return it\n",
        "    \"\"\"\n",
        "\n",
        "    # initialize the rows and columns\n",
        "    rows = len(matrix)\n",
        "    columns = len(matrix[0])\n",
        "\n",
        "    # initializing an empty matrix with same number of rows and columns\n",
        "    rotated_matrix = [[0]*columns for _ in range(rows)]\n",
        "\n",
        "    # set the new matrix columns in reverse order as the row values of the original matrix by running loops\n",
        "    for i in range(rows):\n",
        "      for j in range(columns):\n",
        "        rotated_matrix[j][columns-i-1] = matrix[i][j]\n",
        "\n",
        "\n",
        "    # return the new matrix\n",
        "    return rotated_matrix\n"
      ]
    },
    {
      "cell_type": "code",
      "execution_count": null,
      "id": "d28beb96",
      "metadata": {
        "colab": {
          "base_uri": "https://localhost:8080/"
        },
        "id": "d28beb96",
        "outputId": "7b8b2a12-efd1-4945-8f25-724ec256521c"
      },
      "outputs": [
        {
          "data": {
            "text/plain": [
              "[[11, 7, 4, 1], [12, 8, 5, 2], [13, 9, 6, 3], [14, 10, 7, 4]]"
            ]
          },
          "execution_count": 17,
          "metadata": {},
          "output_type": "execute_result"
        }
      ],
      "source": [
        "rotate_matrix([[1,2,3,4], [4,5,6,7], [7,8,9,10], [11,12,13,14]])\n"
      ]
    },
    {
      "cell_type": "markdown",
      "id": "c4c1b8f6",
      "metadata": {
        "id": "c4c1b8f6"
      },
      "source": [
        "<img src=\"https://media.giphy.com/media/1TX7wY4YnF9DVIjpwQ/giphy.gif\" width=\"40px\" height=\"40px\" style=\"margin: 0px;\"/>\n",
        "\n",
        "#### Approach 2\n",
        "\n",
        "```\n",
        "The logic behind this approach is to first find the transpose of the matrix and then reverse each row\n",
        "```"
      ]
    },
    {
      "cell_type": "code",
      "execution_count": null,
      "id": "f019a545",
      "metadata": {
        "id": "f019a545"
      },
      "outputs": [],
      "source": [
        "def rotate_matrix(matrix):\n",
        "\n",
        "    # initialize the rows and columns\n",
        "    rows = len(matrix)\n",
        "    columns = len(matrix[0])\n",
        "    # transposing the matrix\n",
        "    for i in range(rows):\n",
        "      for j in range(i):\n",
        "        matrix[i][j], matrix[j][i] = matrix[j][i], matrix[i][j]\n",
        "\n",
        "    # reversing each row\n",
        "    for i in range(rows):\n",
        "      matrix[i]=matrix[i][::-1]\n",
        "    # return the matrix\n",
        "    return matrix\n"
      ]
    },
    {
      "cell_type": "code",
      "execution_count": null,
      "id": "8dfe9811",
      "metadata": {
        "colab": {
          "base_uri": "https://localhost:8080/"
        },
        "id": "8dfe9811",
        "outputId": "43e38db8-e134-4d8e-f764-ab401becba36"
      },
      "outputs": [
        {
          "data": {
            "text/plain": [
              "[[11, 7, 4, 1], [12, 8, 5, 2], [13, 9, 6, 3], [14, 10, 7, 4]]"
            ]
          },
          "execution_count": 28,
          "metadata": {},
          "output_type": "execute_result"
        }
      ],
      "source": [
        "rotate_matrix([[1,2,3,4], [4,5,6,7], [7,8,9,10], [11,12,13,14]])"
      ]
    },
    {
      "cell_type": "markdown",
      "id": "a821a3c6",
      "metadata": {
        "id": "a821a3c6"
      },
      "source": [
        "### Problem - 4\n",
        "Given an array and a sum value, return the indices of the two elements that form the sum.\n",
        "\n",
        "<b>Input:</b> L = [2,7,11,15], target = 9<br/>\n",
        "<b>Output:</b> L = [0,1]"
      ]
    },
    {
      "cell_type": "markdown",
      "id": "7wnXbIuTfj25",
      "metadata": {
        "id": "7wnXbIuTfj25"
      },
      "source": [
        "### **`Watch Solved Problem 4: Sum of two elements`**"
      ]
    },
    {
      "cell_type": "markdown",
      "id": "15be2237",
      "metadata": {
        "id": "15be2237"
      },
      "source": [
        "<img src=\"https://media.giphy.com/media/1TX7wY4YnF9DVIjpwQ/giphy.gif\" width=\"40px\" height=\"40px\" style=\"margin: 0px;\"/>\n",
        "\n",
        "#### Approach 1 : Brute force : TC: O(n**2) SC: O(1)\n",
        "\n",
        "\n",
        "\n",
        "```\n",
        "Iterate over the array and for each element in the array, find whether (target-element) exists in the right side of the array.\n",
        "```"
      ]
    },
    {
      "cell_type": "code",
      "execution_count": null,
      "id": "9d911e5a",
      "metadata": {
        "id": "9d911e5a"
      },
      "outputs": [],
      "source": [
        "def two_sum(array, target):\n",
        "\n",
        "    # initialize the length and a answer list\n",
        "    n = len(array)\n",
        "    ans =[]\n",
        "\n",
        "    # Iterate over the array and for each element in the array, find whether (target-element) exists in the right side of the array\n",
        "    # if found, append the indices in the ans list\n",
        "    for i in range(n-1):\n",
        "      remainder = target - array[i]\n",
        "      for j in range(i+1, n):\n",
        "        if remainder == array[j]:\n",
        "          ans.append(i)\n",
        "          ans.append(j)\n",
        "          return ans\n",
        "\n",
        "    return ans\n",
        "\n",
        "\n",
        "\n",
        "    # return ans list\n"
      ]
    },
    {
      "cell_type": "code",
      "execution_count": null,
      "id": "722ca4b9",
      "metadata": {
        "colab": {
          "base_uri": "https://localhost:8080/"
        },
        "id": "722ca4b9",
        "outputId": "7595ea11-f745-4f63-b582-281dffaa8f57"
      },
      "outputs": [
        {
          "data": {
            "text/plain": [
              "[0, 1]"
            ]
          },
          "execution_count": 8,
          "metadata": {},
          "output_type": "execute_result"
        }
      ],
      "source": [
        "two_sum([2,7,11,15], 9)"
      ]
    },
    {
      "cell_type": "code",
      "execution_count": null,
      "id": "8fe645ae",
      "metadata": {
        "colab": {
          "base_uri": "https://localhost:8080/"
        },
        "id": "8fe645ae",
        "outputId": "48ae229f-56f6-48ab-ba64-f755a964380b"
      },
      "outputs": [
        {
          "data": {
            "text/plain": [
              "[1, 2]"
            ]
          },
          "execution_count": 6,
          "metadata": {},
          "output_type": "execute_result"
        }
      ],
      "source": [
        "two_sum([3,2,4,6], 6)"
      ]
    },
    {
      "cell_type": "markdown",
      "id": "f7e7d47f",
      "metadata": {
        "id": "f7e7d47f"
      },
      "source": [
        "<img src=\"https://media.giphy.com/media/1TX7wY4YnF9DVIjpwQ/giphy.gif\" width=\"40px\" height=\"40px\" style=\"margin: 0px;\"/>\n",
        "\n",
        "#### Approach 2: Optimal Approach : TC : O(n)\n",
        "SC: O(n)\n",
        "```\n",
        " We can make use of a hash table in which the key would be the elements and the value would be the index\n",
        "```"
      ]
    },
    {
      "cell_type": "code",
      "execution_count": 3,
      "id": "85896abd",
      "metadata": {
        "id": "85896abd"
      },
      "outputs": [],
      "source": [
        "def two_sum(array, target):\n",
        "\n",
        "    # initialize an empty dictionary and emplty list named ans\n",
        "    n =len(array)\n",
        "    hash_table = dict()\n",
        "    ans = []\n",
        "\n",
        "    # iterate over the array and check whether the target-value is available as an index in dictionary\n",
        "    # if available append the indices to the ans and return it\n",
        "    # in each iteration add the array element as key and index as value in the dictionary\n",
        "    for index, value in enumerate(array):\n",
        "      remainder = target - value\n",
        "      if remainder in hash_table:\n",
        "        ans.append(hash_table[remainder])\n",
        "        ans.append(index)\n",
        "        return ans\n",
        "      hash_table[value]= index\n",
        "\n",
        "\n",
        "    # return the ans list\n",
        "    return ans\n"
      ]
    },
    {
      "cell_type": "code",
      "execution_count": 4,
      "id": "58ac2924",
      "metadata": {
        "colab": {
          "base_uri": "https://localhost:8080/"
        },
        "id": "58ac2924",
        "outputId": "2c1be961-c52f-4233-f802-34b81580cbb1"
      },
      "outputs": [
        {
          "data": {
            "text/plain": [
              "[0, 1]"
            ]
          },
          "execution_count": 4,
          "metadata": {},
          "output_type": "execute_result"
        }
      ],
      "source": [
        "two_sum([2,7,11,15], 9)"
      ]
    },
    {
      "cell_type": "code",
      "execution_count": null,
      "id": "c0d68ea9",
      "metadata": {
        "id": "c0d68ea9",
        "outputId": "c289fa51-3109-40b9-80b6-1beb92f22af5"
      },
      "outputs": [
        {
          "data": {
            "text/plain": [
              "[1, 2]"
            ]
          },
          "execution_count": 23,
          "metadata": {},
          "output_type": "execute_result"
        }
      ],
      "source": [
        "two_sum([3,2,4,6], 6)"
      ]
    },
    {
      "cell_type": "markdown",
      "id": "c6509ccf",
      "metadata": {
        "id": "c6509ccf"
      },
      "source": [
        "### Problem - 5\n",
        "\n",
        "Given an array of size n, and each element in the array is in between 1 and n. Assuming there is only one duplicate number, find the most efficient way for finding the duplicate number.\n",
        "\n",
        "<b>Input: </b>[1,3,4,2,2]<br/>\n",
        "<b>Output: </b>2"
      ]
    },
    {
      "cell_type": "markdown",
      "id": "9GFkRxRhfvPe",
      "metadata": {
        "id": "9GFkRxRhfvPe"
      },
      "source": [
        "### **`Watch Solved Problem 5: Duplicate Numbers`**"
      ]
    },
    {
      "cell_type": "markdown",
      "id": "704735ca",
      "metadata": {
        "id": "704735ca"
      },
      "source": [
        "<img src=\"https://media.giphy.com/media/1TX7wY4YnF9DVIjpwQ/giphy.gif\" width=\"40px\" height=\"40px\" style=\"margin: 0px;\"/>\n",
        "\n",
        "#### Approach 1\n",
        "\n",
        "```\n",
        "- Sort the array.\n",
        "- Iterate over the array and check whether the current element is equal to next element, if yes, then that element is the duplicate element.\n",
        "\n",
        "Time Complexity: (TC: O(nlogn))\n",
        "\n",
        "Space Complexity: O(1)\n",
        "```"
      ]
    },
    {
      "cell_type": "code",
      "execution_count": 8,
      "id": "f5cfb738",
      "metadata": {
        "id": "f5cfb738"
      },
      "outputs": [],
      "source": [
        "def find_duplicate_number(array):\n",
        "\n",
        "    # initialize the length of the array\n",
        "    n = len(array)\n",
        "\n",
        "    # sort the array\n",
        "    array.sort()\n",
        "\n",
        "    # iterate over the array and check whether the element is equal to its adjacent element\n",
        "    for i in range(n-1):\n",
        "      if array[i]==array[i+1]:\n",
        "        return array[i]\n",
        "    # if yes, return that element\n",
        "\n"
      ]
    },
    {
      "cell_type": "code",
      "execution_count": 9,
      "id": "fb790138",
      "metadata": {
        "colab": {
          "base_uri": "https://localhost:8080/"
        },
        "id": "fb790138",
        "outputId": "2ff4b0cd-7edb-472c-9bc7-e6e937fd17a6"
      },
      "outputs": [
        {
          "data": {
            "text/plain": [
              "2"
            ]
          },
          "execution_count": 9,
          "metadata": {},
          "output_type": "execute_result"
        }
      ],
      "source": [
        "find_duplicate_number([1,3,4,2,2])"
      ]
    },
    {
      "cell_type": "markdown",
      "id": "0473b911",
      "metadata": {
        "id": "0473b911"
      },
      "source": [
        "<img src=\"https://media.giphy.com/media/1TX7wY4YnF9DVIjpwQ/giphy.gif\" width=\"40px\" height=\"40px\" style=\"margin: 0px;\"/>\n",
        "\n",
        "#### Approach 2\n",
        "\n",
        "```\n",
        "- We can use a frequency array that can store the count of the element.(Like a hash array)\n",
        "- Iterate over the array and keep incrementing the count of the elements, if the count of any element becomes > 1 then that is the duplicate element.\n",
        "\n",
        "Time Complexity: O(2n)\n",
        "\n",
        "Space Complexity; O(n)\n",
        "```"
      ]
    },
    {
      "cell_type": "code",
      "execution_count": 20,
      "id": "2880de15",
      "metadata": {
        "id": "2880de15"
      },
      "outputs": [],
      "source": [
        "def find_duplicate_number(array):\n",
        "\n",
        "    # initialize the length of the array and a frequency array\n",
        "    n =len(array)\n",
        "\n",
        "\n",
        "    # create a frequency array on size length+1\n",
        "    count_array=[0 for _ in range(n+1)]\n",
        "\n",
        "\n",
        "    # iterate over the elements in the array and the increment the count of the elements\n",
        "    # at any point if the count of a particular index becomes > 1 return that element\n",
        "    for num in array:\n",
        "      count_array[num]+=1\n",
        "\n",
        "      if count_array[num]>1:\n",
        "        return num\n",
        "\n",
        "    return num\n",
        "\n"
      ]
    },
    {
      "cell_type": "code",
      "execution_count": 23,
      "id": "olvz3kyDGJFk",
      "metadata": {
        "colab": {
          "base_uri": "https://localhost:8080/"
        },
        "id": "olvz3kyDGJFk",
        "outputId": "4e037778-2166-4f5f-aca1-31d7c1ec906d"
      },
      "outputs": [
        {
          "data": {
            "text/plain": [
              "[0, 0, 0, 0, 0, 0]"
            ]
          },
          "execution_count": 23,
          "metadata": {},
          "output_type": "execute_result"
        }
      ],
      "source": [
        "count_array=[0 for _ in range(5+1)]\n",
        "\n",
        "count_array"
      ]
    },
    {
      "cell_type": "code",
      "execution_count": 21,
      "id": "b0144529",
      "metadata": {
        "colab": {
          "base_uri": "https://localhost:8080/"
        },
        "id": "b0144529",
        "outputId": "63fe7f8e-27ac-42a3-b91e-a0bb41ca4d8f"
      },
      "outputs": [
        {
          "data": {
            "text/plain": [
              "2"
            ]
          },
          "execution_count": 21,
          "metadata": {},
          "output_type": "execute_result"
        }
      ],
      "source": [
        "find_duplicate_number([1,3,4,2,2])"
      ]
    },
    {
      "cell_type": "markdown",
      "id": "56223d83",
      "metadata": {
        "id": "56223d83"
      },
      "source": [
        "<img src=\"https://media.giphy.com/media/1TX7wY4YnF9DVIjpwQ/giphy.gif\" width=\"40px\" height=\"40px\" style=\"margin: 0px;\"/>\n",
        "\n",
        "#### Approach 3\n",
        "\n",
        "```\n",
        "Linked List cycle method.\n",
        "- Initialize two pointers slow and fast.\n",
        "- slow pointer moves by one step and fast pointer moves by two steps (if there is duplicate, they will meet at some point).\n",
        "- After they meet, initialize the fast pointer to 1st element and then move the slow and fast pointer one step until slow==fast.\n",
        "- return slow or fast\n",
        "```"
      ]
    },
    {
      "cell_type": "code",
      "execution_count": 31,
      "id": "d24304be",
      "metadata": {
        "id": "d24304be"
      },
      "outputs": [],
      "source": [
        "def find_duplicate_number(array):\n",
        "\n",
        "    # initialize the length of the array\n",
        "    n =len(array)\n",
        "\n",
        "    # initialize slow and fast pointers to first element of the array\n",
        "    slow =array[0]\n",
        "    fast =array[0]\n",
        "\n",
        "    # move the slow pointer by one step and fast pointer by two steps\n",
        "    slow = array[slow]\n",
        "    fast=array[array[fast]]\n",
        "\n",
        "    # while slow != fast move the slow pointer by one step and fast pointer by two steps\n",
        "    while slow!=fast:\n",
        "      slow= array[slow]\n",
        "      fast=array[array[fast]]\n",
        "\n",
        "\n",
        "    # initialize the fast pointer to first element of the array\n",
        "    fast=array[0]\n",
        "\n",
        "    # move both the slow and fast pointers by one step\n",
        "    while slow!=fast:\n",
        "      slow = array[slow]\n",
        "      fast = array[fast]\n",
        "\n",
        "    # return the slow or fast pointer\n",
        "    return slow\n"
      ]
    },
    {
      "cell_type": "code",
      "execution_count": 32,
      "id": "4807a2f9",
      "metadata": {
        "colab": {
          "base_uri": "https://localhost:8080/"
        },
        "id": "4807a2f9",
        "outputId": "9c59af3c-7294-4ea2-f4ef-8c5facfb8a52"
      },
      "outputs": [
        {
          "data": {
            "text/plain": [
              "2"
            ]
          },
          "execution_count": 32,
          "metadata": {},
          "output_type": "execute_result"
        }
      ],
      "source": [
        "find_duplicate_number([1,3,4,2,2])"
      ]
    },
    {
      "cell_type": "markdown",
      "id": "c7d49a04",
      "metadata": {
        "id": "c7d49a04"
      },
      "source": [
        "### Problem - 6\n",
        "\n",
        "Given an array nums. We define a running sum of an array as runningSum[i] = sum(nums[0]…nums[i]).\n",
        "\n",
        "Return the running sum of nums.\n",
        "\n",
        "<b>Input 1:</b> nums = [1,2,3,4]<br/>\n",
        "<b>Output 1:</b> [1,3,6,10]\n",
        "\n",
        "<b>Input 2:</b> nums = [3,1,2,10,1]<br/>\n",
        "<b>Output 2:</b> [3,4,6,16,17]"
      ]
    },
    {
      "cell_type": "markdown",
      "id": "sBFs_MuWf5nm",
      "metadata": {
        "id": "sBFs_MuWf5nm"
      },
      "source": [
        "### **`Watch Solved Problem 6: Running Sums`**"
      ]
    },
    {
      "cell_type": "markdown",
      "id": "7215502f",
      "metadata": {
        "id": "7215502f"
      },
      "source": [
        "<img src=\"https://media.giphy.com/media/1TX7wY4YnF9DVIjpwQ/giphy.gif\" width=\"40px\" height=\"40px\" style=\"margin: 0px;\"/>\n",
        "\n",
        "#### Approach 1\n",
        "\n",
        "```\n",
        "We can make use of an variable that keeps track of the sum upto that index during iteration and assign the sum while iterating.\n",
        "```"
      ]
    },
    {
      "cell_type": "code",
      "execution_count": 33,
      "id": "f9f34c40",
      "metadata": {
        "id": "f9f34c40"
      },
      "outputs": [],
      "source": [
        "def running_sum(array):\n",
        "\n",
        "    # initialize a current sum\n",
        "    current_sum = 0\n",
        "\n",
        "    # initialize the length of the array\n",
        "    n =len(array)\n",
        "\n",
        "    # iterate over the array and keep adding the elements to the current sum and assign the sum to the array value\n",
        "    # at that index\n",
        "    for i in range(n):\n",
        "      current_sum+=array[i]\n",
        "      array[i]=current_sum\n",
        "\n",
        "    # return the array\n",
        "    return array\n"
      ]
    },
    {
      "cell_type": "code",
      "execution_count": 34,
      "id": "3830c506",
      "metadata": {
        "colab": {
          "base_uri": "https://localhost:8080/"
        },
        "id": "3830c506",
        "outputId": "20f6607e-f8b3-4a10-a8ce-cde23a554ced"
      },
      "outputs": [
        {
          "data": {
            "text/plain": [
              "[3, 4, 6, 16, 17]"
            ]
          },
          "execution_count": 34,
          "metadata": {},
          "output_type": "execute_result"
        }
      ],
      "source": [
        "running_sum([3,1,2,10,1])"
      ]
    },
    {
      "cell_type": "markdown",
      "id": "96ce33e8",
      "metadata": {
        "id": "96ce33e8"
      },
      "source": [
        "<img src=\"https://media.giphy.com/media/1TX7wY4YnF9DVIjpwQ/giphy.gif\" width=\"40px\" height=\"40px\" style=\"margin: 0px;\"/>\n",
        "\n",
        "#### Approach 2\n",
        "\n",
        "```\n",
        "Instead of using a second variable, we can store the sum in the previous index. Start iterating from index 1 and then just add the previous index number to the current index.\n",
        "\n",
        "\n",
        "```"
      ]
    },
    {
      "cell_type": "code",
      "execution_count": 35,
      "id": "ae4e0cf7",
      "metadata": {
        "id": "ae4e0cf7"
      },
      "outputs": [],
      "source": [
        "def running_sum(array):\n",
        "\n",
        "    # initialize the length of the array]\n",
        "    n = len(array)\n",
        "\n",
        "    # iterate over the array from index 1 and for each index, add it's previous index element\n",
        "    for i in range(1,n):\n",
        "      array[i]=array[i] + array[i-1]\n",
        "\n",
        "    # return the array\n",
        "    return array\n"
      ]
    },
    {
      "cell_type": "code",
      "execution_count": 36,
      "id": "cae260b9",
      "metadata": {
        "colab": {
          "base_uri": "https://localhost:8080/"
        },
        "id": "cae260b9",
        "outputId": "ba30c44f-efb9-4318-a384-5127afc4880e"
      },
      "outputs": [
        {
          "data": {
            "text/plain": [
              "[3, 4, 6, 16, 17]"
            ]
          },
          "execution_count": 36,
          "metadata": {},
          "output_type": "execute_result"
        }
      ],
      "source": [
        "running_sum([3,1,2,10,1])"
      ]
    },
    {
      "cell_type": "markdown",
      "id": "9f2deaac",
      "metadata": {
        "id": "9f2deaac"
      },
      "source": [
        "## Practice Problems"
      ]
    },
    {
      "cell_type": "markdown",
      "id": "40b9e3bc",
      "metadata": {
        "id": "40b9e3bc"
      },
      "source": [
        "### Practice Problem - 1\n",
        "\n",
        "Given the array find the max cosecutive 1's in the array.\n",
        "\n",
        "<b>Input:</b> L = [0,1,1,0,0,1,1,1]<br/>\n",
        "<b>Output:</b> 3"
      ]
    },
    {
      "cell_type": "markdown",
      "id": "63Bt1MlHfuan",
      "metadata": {
        "id": "63Bt1MlHfuan"
      },
      "source": [
        "## Time complexity; O(n)\n",
        "\n",
        "## Space Complexity: O(1)"
      ]
    },
    {
      "cell_type": "code",
      "execution_count": 54,
      "id": "3335b756",
      "metadata": {
        "id": "3335b756"
      },
      "outputs": [],
      "source": [
        "def get_max_consecutive_ones(array):\n",
        "\n",
        "    #initialize the length of the array\n",
        "    n = len(array)\n",
        "\n",
        "    #initialize the index and max_count to 0\n",
        "    i =0\n",
        "    max_count =0\n",
        "\n",
        "    #now iterating within the range\n",
        "\n",
        "    #inside the range if we find 1 we go inside the innner loop and then check how many 1s are present next to each other\n",
        "\n",
        "    #update the max_count accordingly\n",
        "\n",
        "    while i <n:\n",
        "      if array[i] ==1:\n",
        "        count = 0\n",
        "        while i<n and array[i]==1:\n",
        "          count+=1\n",
        "          i+=1\n",
        "        max_count= max(max_count, count)\n",
        "      i+=1\n",
        "\n",
        "\n",
        "    #return max_count\n",
        "    return max_count\n",
        "\n",
        "\n",
        "\n"
      ]
    },
    {
      "cell_type": "code",
      "execution_count": 55,
      "id": "bf50207d",
      "metadata": {
        "colab": {
          "base_uri": "https://localhost:8080/"
        },
        "id": "bf50207d",
        "outputId": "65ab45f9-f183-4e36-f8cf-6030533a1e94"
      },
      "outputs": [
        {
          "data": {
            "text/plain": [
              "3"
            ]
          },
          "execution_count": 55,
          "metadata": {},
          "output_type": "execute_result"
        }
      ],
      "source": [
        "get_max_consecutive_ones([0,1,1,0,0,1,1,1])"
      ]
    },
    {
      "cell_type": "markdown",
      "id": "2b09ee15",
      "metadata": {
        "id": "2b09ee15"
      },
      "source": [
        "### Practice Problem - 2\n",
        "\n",
        "You are given an array prices where prices[i] is the price of a given stock on the ith day.\n",
        "\n",
        "You want to maximize your profit by choosing a single day to buy one stock and choosing a different day in the future to sell that stock.\n",
        "\n",
        "Return the maximum profit you can achieve from this transaction. If you cannot achieve any profit, return 0.\n",
        "\n",
        "<b>Input:</b> prices = [7,1,5,3,6,4]<br/>\n",
        "<b>Output:</b> 5<br/>\n",
        "<b>Explanation:</b> Buy on day 2 (price = 1) and sell on day 5 (price = 6), profit = 6-1 = 5.<br/>\n",
        "Note that buying on day 2 and selling on day 1 is not allowed because you must buy before you sell."
      ]
    },
    {
      "cell_type": "markdown",
      "id": "v4yxoHYXunkS",
      "metadata": {
        "id": "v4yxoHYXunkS"
      },
      "source": [
        "Solution:\n",
        "\n",
        "1. Get the minimum value from the array\n",
        "\n",
        "2. Update the profit by taking the differnece between the ith element and the minimum value\n",
        "\n",
        "## Time Complexity: O(n)\n",
        "\n",
        "## Space Complexity: O(1)"
      ]
    },
    {
      "cell_type": "code",
      "execution_count": 75,
      "id": "6f3022eb",
      "metadata": {
        "id": "6f3022eb"
      },
      "outputs": [],
      "source": [
        "def maximize_profit(prices):\n",
        "\n",
        "  #length\n",
        "  n = len(prices)\n",
        "\n",
        "  #initialize max_profit to 0 and min_value to some max_value\n",
        "  max_profit =0\n",
        "  min_value= 1000\n",
        "\n",
        "  for i in prices:\n",
        "\n",
        "    min_value=min(min_value,i)\n",
        "    profit=i-min_value\n",
        "    max_profit=max(max_profit, profit)\n",
        "\n",
        "  return max_profit"
      ]
    },
    {
      "cell_type": "code",
      "execution_count": 76,
      "id": "64b0a755",
      "metadata": {
        "colab": {
          "base_uri": "https://localhost:8080/"
        },
        "id": "64b0a755",
        "outputId": "933911a2-50ff-4a79-c2ee-ddf886e5081e"
      },
      "outputs": [
        {
          "data": {
            "text/plain": [
              "5"
            ]
          },
          "execution_count": 76,
          "metadata": {},
          "output_type": "execute_result"
        }
      ],
      "source": [
        "maximize_profit([7,1,5,3,6,4])"
      ]
    },
    {
      "cell_type": "markdown",
      "id": "93ab271f",
      "metadata": {
        "id": "93ab271f"
      },
      "source": [
        "### Practice Problem - 3\n",
        "Given a number represented in the form of an array, where digit at each index represents the digit at that index in the number from left to right. You are supposed to increment the number by one and return the resultant array.\n",
        "\n",
        "<b>Input 1:</b> prices = [1, 2, 3]<br/>\n",
        "<b>Output 2:</b> [1, 2, 4]<br/>\n",
        "\n",
        "\n",
        "<b>Input 2:</b> prices = [9]<br/>\n",
        "<b>Output 2:</b> [1, 0]<br/>"
      ]
    },
    {
      "cell_type": "markdown",
      "id": "bHvaYrUkyCqS",
      "metadata": {
        "id": "bHvaYrUkyCqS"
      },
      "source": [
        "# Approach : PRACTICE AGAIN--------------- **IMPORTANT**\n",
        "\n",
        "1. We need a variable called carry which keeps track of the carry\n",
        "\n",
        "1st Condition:\n",
        "add one to the last index\n",
        "check for carry (//10)\n",
        "return the updated last digit(%10)\n",
        "\n",
        "in the for loop ranging (n-2,-1,-1) iterating from  second last number to first number\n",
        "\n",
        "if carry:\n",
        "  arr[i]==carry\n",
        "  array=arr[i]//10\n",
        "  arr[i]=arr[i]%10\n",
        "\n",
        "else:\n",
        "  break\n",
        "\n",
        "if there is any carry remaining we have to check that if we are example getting a fourth digit\n",
        "\n",
        "if carry:\n",
        "  arr.insert(0,carry)  adding carry to the 0th index\n",
        "\n",
        "return the array\n",
        "\n"
      ]
    },
    {
      "cell_type": "code",
      "execution_count": 83,
      "id": "80958ee8",
      "metadata": {
        "id": "80958ee8"
      },
      "outputs": [],
      "source": [
        "def increment_digit(array):\n",
        "    n = len(array)\n",
        "\n",
        "   #adding 1 to the last digit and finding the carry\n",
        "    array[n-1]+=1\n",
        "    carry = array[n-1]//10\n",
        "    array[n-1]=array[n-1]%10\n",
        "\n",
        "    #iterating over the array and adding carry to the number if carry is present\n",
        "    for i in range(n-2, -1, -1):\n",
        "      if carry:\n",
        "        array[i]+=carry\n",
        "        carry=array[i]//10\n",
        "        array[i]=array[i]%10\n",
        "      else:\n",
        "        break\n",
        "\n",
        "\n",
        "     #atlast if carry is oresent\n",
        "    if carry:\n",
        "      array.insert(0, carry)\n",
        "\n",
        "    return array\n",
        "\n",
        "\n"
      ]
    },
    {
      "cell_type": "code",
      "execution_count": 84,
      "id": "deb8b9c1",
      "metadata": {
        "colab": {
          "base_uri": "https://localhost:8080/"
        },
        "id": "deb8b9c1",
        "outputId": "9c8e4a21-ec35-49a9-8201-093e3d463edb"
      },
      "outputs": [
        {
          "data": {
            "text/plain": [
              "[1, 2, 4]"
            ]
          },
          "execution_count": 84,
          "metadata": {},
          "output_type": "execute_result"
        }
      ],
      "source": [
        "increment_digit([1,2,3])"
      ]
    },
    {
      "cell_type": "code",
      "execution_count": 82,
      "id": "1d4d1e43",
      "metadata": {
        "colab": {
          "base_uri": "https://localhost:8080/"
        },
        "id": "1d4d1e43",
        "outputId": "0b6258e2-0a60-4d73-8040-c4d2aef28e9c"
      },
      "outputs": [
        {
          "data": {
            "text/plain": [
              "[1, 0]"
            ]
          },
          "execution_count": 82,
          "metadata": {},
          "output_type": "execute_result"
        }
      ],
      "source": [
        "increment_digit([9])"
      ]
    },
    {
      "cell_type": "code",
      "execution_count": 85,
      "id": "0gzJzDgmFa2P",
      "metadata": {
        "colab": {
          "base_uri": "https://localhost:8080/"
        },
        "id": "0gzJzDgmFa2P",
        "outputId": "4de995e7-f56a-493a-e8a9-545dc1c43cb3"
      },
      "outputs": [
        {
          "data": {
            "text/plain": [
              "[2, 5, 0]"
            ]
          },
          "execution_count": 85,
          "metadata": {},
          "output_type": "execute_result"
        }
      ],
      "source": [
        "increment_digit([2,4,9])"
      ]
    },
    {
      "cell_type": "markdown",
      "id": "0d2e04c6",
      "metadata": {
        "id": "0d2e04c6"
      },
      "source": [
        "### Practice Problem - 4\n",
        "\n",
        "You are given an integer n. A 0-indexed integer array nums of length n + 1 is generated in the following way:\n",
        "\n",
        "- nums[0] = 0\n",
        "- nums[1] = 1\n",
        "- nums[2 * i] = nums[i] when 2 <= 2 * i <= n\n",
        "- nums[2 * i + 1] = nums[i] + nums[i + 1] when 2 <= 2 * i + 1 <= n\n",
        "\n",
        "Return the maximum integer in the array nums\n",
        "\n",
        "<b>Input 1:</b> n = 7<br/>\n",
        "<b>Output 1:</b> 3\n",
        "\n",
        "<b>Input 2:</b> n = 2<br/>\n",
        "<b>Output 2:</b> 1"
      ]
    },
    {
      "cell_type": "markdown",
      "id": "aiiPJM0uhEiU",
      "metadata": {
        "id": "aiiPJM0uhEiU"
      },
      "source": [
        "1. check for n=0 or n=1 cases\n",
        "\n",
        "2. create an empty array with 0 values\n",
        "\n",
        "3. initialize first and  second index with 0 and  1 respectively\n",
        "\n",
        "4. intialize a variable called ans with soem negative value for getting the max value from the array\n",
        "\n",
        "5. now iterate from the second index and check for the odd and even conditions acordingly\n",
        "\n",
        "6. return the max value in the ans variable"
      ]
    },
    {
      "cell_type": "code",
      "execution_count": 7,
      "id": "e11591f9",
      "metadata": {
        "id": "e11591f9"
      },
      "outputs": [],
      "source": [
        "def get_maximum_generated(n):\n",
        "    if n==0 or n==1:\n",
        "      return n\n",
        "\n",
        "    array=[0 for _ in range(n+1)]\n",
        "    array[0]=0\n",
        "    array[1]=1\n",
        "    ans=-1000\n",
        "\n",
        "    for i in range(2, n+1):\n",
        "      if i%2==0:\n",
        "        array[i]=array[i//2]\n",
        "      else:\n",
        "        array[i]=array[i//2]+array[(i//2)+1]\n",
        "\n",
        "      ans=max(ans,array[i])\n",
        "\n",
        "    return ans\n",
        "\n"
      ]
    },
    {
      "cell_type": "code",
      "execution_count": 8,
      "id": "4b3d6651",
      "metadata": {
        "colab": {
          "base_uri": "https://localhost:8080/"
        },
        "id": "4b3d6651",
        "outputId": "7b06ad9d-8684-4083-d65e-757c13007b47"
      },
      "outputs": [
        {
          "data": {
            "text/plain": [
              "3"
            ]
          },
          "execution_count": 8,
          "metadata": {},
          "output_type": "execute_result"
        }
      ],
      "source": [
        "get_maximum_generated(7)"
      ]
    },
    {
      "cell_type": "markdown",
      "id": "032bc5c2",
      "metadata": {
        "id": "032bc5c2"
      },
      "source": [
        "### Practice Problem - 5\n",
        "\n",
        "Given the array nums, for each nums[i] find out how many numbers in the array are smaller than it. That is, for each nums[i] you have to count the number of valid j's such that j != i and nums[j] < nums[i].\n",
        "\n",
        "Return the answer in an array.\n",
        "\n",
        "<b>Input 1:</b> nums = [8,1,2,2,3]<br/>\n",
        "<b>Output 1:</b> [4,0,1,1,3]\n",
        "\n",
        "<b>Input 2:</b> nums = [6,5,4,8]<br/>\n",
        "<b>Output 2:</b> [2,1,0,3]"
      ]
    },
    {
      "cell_type": "markdown",
      "id": "S-ijtvClzqUZ",
      "metadata": {
        "id": "S-ijtvClzqUZ"
      },
      "source": [
        "# Approach\n",
        "\n",
        "### Basically we need to count how many numbers are smaller than that number\n",
        "\n",
        "## Steps:\n",
        "\n",
        "1. Sort the array\n",
        "\n",
        "2. hash table/dictionary\n",
        "\n",
        "3. In this case the index i will give you the count of elements less than that element\n",
        "\n",
        "4. Now initialize starting element with\n",
        "\n"
      ]
    },
    {
      "cell_type": "code",
      "execution_count": 15,
      "id": "7f6577e1",
      "metadata": {
        "id": "7f6577e1"
      },
      "outputs": [],
      "source": [
        "def count_valid(array):\n",
        "  n= len(array)\n",
        "\n",
        "  sorted_array= sorted(array)\n",
        "\n",
        "  #create a dictionary called count_dict\n",
        "  #initialize the first element of the dictionary to 0\n",
        "\n",
        "  count_dict = dict()\n",
        "  count_dict[sorted_array[0]]=0\n",
        "\n",
        "  #start the loop from \"1st\" index becuase 0th element is already initiated to 0\n",
        "\n",
        "  for i in range(1,n):\n",
        "    if sorted_array[i]!=sorted_array[i-1]:\n",
        "      count_dict[sorted_array[i]]=i\n",
        "\n",
        "  print(count_dict)\n",
        "\n",
        "  #now we have to print the element in accordance to the array , so we take the dict value and add it to array\n",
        "\n",
        "  for i in range(n):\n",
        "    array[i] = count_dict[array[i]]\n",
        "\n",
        "  return array"
      ]
    },
    {
      "cell_type": "code",
      "execution_count": 16,
      "id": "82a92327",
      "metadata": {
        "colab": {
          "base_uri": "https://localhost:8080/"
        },
        "id": "82a92327",
        "outputId": "70461bff-665f-4d7c-ffcf-7196b59dc35b"
      },
      "outputs": [
        {
          "name": "stdout",
          "output_type": "stream",
          "text": [
            "{4: 0, 5: 1, 6: 2, 8: 3}\n"
          ]
        },
        {
          "data": {
            "text/plain": [
              "[2, 1, 0, 3]"
            ]
          },
          "execution_count": 16,
          "metadata": {},
          "output_type": "execute_result"
        }
      ],
      "source": [
        "count_valid([6,5,4,8])"
      ]
    },
    {
      "cell_type": "markdown",
      "id": "6bc6d54c",
      "metadata": {
        "id": "6bc6d54c"
      },
      "source": [
        "### Practice Problem - 6\n",
        "\n",
        "Given the array of integers nums, you will choose two different indices i and j of that array. Return the maximum value of (nums[i]-1)*(nums[j]-1).\n",
        "\n",
        "<b>Note: </b>All the elements in the array are +ve.\n",
        "\n",
        "<b>Input:</b> nums = [3,4,5,2]<br/>\n",
        "<b>Output:</b> 12"
      ]
    },
    {
      "cell_type": "markdown",
      "id": "fGT7ZmPg9cYj",
      "metadata": {
        "id": "fGT7ZmPg9cYj"
      },
      "source": [
        "# Approach\n",
        "\n",
        "#Steps\n",
        "\n",
        "1. Sort the array and product of last two digits will give you the max value\n",
        "\n",
        "2. initialize two variables max1, max2=0\n",
        "\n",
        "3. compare the number to get the max vlaues"
      ]
    },
    {
      "cell_type": "code",
      "execution_count": 33,
      "id": "7642e312",
      "metadata": {
        "id": "7642e312"
      },
      "outputs": [],
      "source": [
        "def get_max_val(array):\n",
        "    n = len(array)\n",
        "    max1 = 0\n",
        "    max2= 0\n",
        "\n",
        "    for num in array:\n",
        "      if num>max1:\n",
        "        max2=max1\n",
        "        max1=num\n",
        "      elif num>max2:\n",
        "        max2=num\n",
        "    return(max1-1)*(max2-1)\n"
      ]
    },
    {
      "cell_type": "code",
      "execution_count": 34,
      "id": "0d88b9f2",
      "metadata": {
        "colab": {
          "base_uri": "https://localhost:8080/"
        },
        "id": "0d88b9f2",
        "outputId": "a1a1bf78-61bf-45c1-b8d8-89200d2ee187"
      },
      "outputs": [
        {
          "data": {
            "text/plain": [
              "12"
            ]
          },
          "execution_count": 34,
          "metadata": {},
          "output_type": "execute_result"
        }
      ],
      "source": [
        "get_max_val([3,4,5,2])"
      ]
    },
    {
      "cell_type": "markdown",
      "id": "5dc04995",
      "metadata": {
        "id": "5dc04995"
      },
      "source": [
        "<center><h1>Congratulations! for completing the Arrays assignment</h1></center>\n",
        "\n",
        "<center><h3>Thank You</h3></center>"
      ]
    }
  ],
  "metadata": {
    "colab": {
      "provenance": []
    },
    "kernelspec": {
      "display_name": "Python 3 (ipykernel)",
      "language": "python",
      "name": "python3"
    },
    "language_info": {
      "codemirror_mode": {
        "name": "ipython",
        "version": 3
      },
      "file_extension": ".py",
      "mimetype": "text/x-python",
      "name": "python",
      "nbconvert_exporter": "python",
      "pygments_lexer": "ipython3",
      "version": "3.11.5"
    }
  },
  "nbformat": 4,
  "nbformat_minor": 5
}
